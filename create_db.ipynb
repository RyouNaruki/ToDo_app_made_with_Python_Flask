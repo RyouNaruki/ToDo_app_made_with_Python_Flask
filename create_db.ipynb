{
 "cells": [
  {
   "cell_type": "markdown",
   "metadata": {},
   "source": [
    "- dbを作り直したいときに利用します\n",
    "- dbの中身は、VScodeの拡張機能「SQLite Viewer」とかで確認してください。"
   ]
  },
  {
   "cell_type": "code",
   "execution_count": 17,
   "metadata": {},
   "outputs": [
    {
     "name": "stdout",
     "output_type": "stream",
     "text": [
      "データベースエラー：near \"customer_id\": syntax error\n"
     ]
    }
   ],
   "source": [
    "import sqlite3\n",
    "\n",
    "try:\n",
    "    con = sqlite3.connect('database/test.db')\n",
    "    cur = con.cursor()\n",
    "    # 顧客マスタ作成\n",
    "    cur.execute(\"\"\"\n",
    "                CREATE TABLE IF NOT EXISTS customer (\n",
    "                customer_id INTEGER PRIMARY KEY,\n",
    "                company TEXT,\n",
    "                address TEXT,\n",
    "                tel TEXT,\n",
    "                email TEXT,\n",
    "                contract TEXT\n",
    "                )\n",
    "                \"\"\")\n",
    "    # ▼▼▼---ここに新しいテーブルを作成するSQLを書いてみよう---▼▼▼\n",
    "    cur.execute(\"\"\"\n",
    "                CREATE TABLE IF NOT EXISTS task (\n",
    "                task_id INTEGER PRIMARY KEY,\n",
    "                customer_id INTEGER,\n",
    "                sir TEXT,\n",
    "                task_content TEXT,\n",
    "                deadline DATE,\n",
    "                pic TEXT,\n",
    "                progress TEXT,\n",
    "                deleted_at DATE\n",
    "                )\n",
    "                \"\"\")\n",
    "    # ▲▲▲---ここに新しいテーブルを作成するSQLを書いてみよう---▲▲▲\n",
    "    con.commit()\n",
    "except sqlite3.Error as e:\n",
    "    # エラー発生時の対応(1)：データベース作成時のエラーを出力\n",
    "    print(f\"データベースエラー：{e}\")\n",
    "except Exception as e:\n",
    "    # エラー発生時の対応(2)：それ以外エラーのを出力\n",
    "    print(f\"予期せぬエラーが発生しました：{e}\")\n",
    "else:\n",
    "    # 上手くいった場合\n",
    "    print(\"データベースの作成に成功しました。\")\n",
    "finally:\n",
    "    # 上手くいっても行かなくてもcloseする\n",
    "    con.close()"
   ]
  },
  {
   "cell_type": "code",
   "execution_count": null,
   "metadata": {},
   "outputs": [],
   "source": []
  }
 ],
 "metadata": {
  "kernelspec": {
   "display_name": "base",
   "language": "python",
   "name": "python3"
  },
  "language_info": {
   "codemirror_mode": {
    "name": "ipython",
    "version": 3
   },
   "file_extension": ".py",
   "mimetype": "text/x-python",
   "name": "python",
   "nbconvert_exporter": "python",
   "pygments_lexer": "ipython3",
   "version": "3.10.11"
  }
 },
 "nbformat": 4,
 "nbformat_minor": 2
}
