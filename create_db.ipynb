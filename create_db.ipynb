{
 "cells": [
  {
   "cell_type": "markdown",
   "metadata": {},
   "source": [
    "- dbを作り直したいときに利用します\n",
    "- dbの中身は、VScodeの拡張機能「SQLite Viewer」とかで確認してください。"
   ]
  },
  {
   "cell_type": "code",
   "execution_count": 5,
   "metadata": {},
   "outputs": [
    {
     "name": "stdout",
     "output_type": "stream",
     "text": [
      "データベースの作成に成功しました。\n"
     ]
    }
   ],
   "source": [
    "import sqlite3\n",
    "\n",
    "try:\n",
    "    con = sqlite3.connect('database/customer.db')\n",
    "    cur = con.cursor()\n",
    "    cur.execute(\"CREATE TABLE customer (name text, company text, tel text, email text)\")\n",
    "except sqlite3.Error as e:\n",
    "    # エラー発生時の対応(1)：データベース作成時のエラーを出力\n",
    "    print(f\"データベースエラー：{e}\")\n",
    "except Exception as e:\n",
    "    # エラー発生時の対応(2)：それ以外エラーのを出力\n",
    "    print(f\"予期せぬエラーが発生しました：{e}\")\n",
    "else:\n",
    "    # 上手くいった場合\n",
    "    print(\"データベースの作成に成功しました。\")\n",
    "finally:\n",
    "    # 上手くいっても行かなくてもcloseする\n",
    "    con.close()"
   ]
  },
  {
   "cell_type": "code",
   "execution_count": 3,
   "metadata": {},
   "outputs": [
    {
     "data": {
      "text/plain": [
       "[('chance', '合同会社オントロジー', '080-1234-5678', 'sayu10370@gmail.com'),\n",
       " ('chance', '合同会社オントロジー', '080-1234-5678', 'sayu10370@gmail.com'),\n",
       " ('your-phone', '合同会社オントロジー', '080-1234-5678', 'sayu10370@gmail.com')]"
      ]
     },
     "execution_count": 3,
     "metadata": {},
     "output_type": "execute_result"
    }
   ],
   "source": [
    "con = sqlite3.connect('database/customer.db')\n",
    "cur = con.cursor()\n",
    "cur.execute(\"SELECT * FROM customer\") # この中でクエリを書く\n",
    "items_list = cur.fetchall()\n",
    "items_list\n",
    "con.close()"
   ]
  },
  {
   "cell_type": "code",
   "execution_count": null,
   "metadata": {},
   "outputs": [],
   "source": []
  }
 ],
 "metadata": {
  "kernelspec": {
   "display_name": "base",
   "language": "python",
   "name": "python3"
  },
  "language_info": {
   "codemirror_mode": {
    "name": "ipython",
    "version": 3
   },
   "file_extension": ".py",
   "mimetype": "text/x-python",
   "name": "python",
   "nbconvert_exporter": "python",
   "pygments_lexer": "ipython3",
   "version": "3.11.5"
  }
 },
 "nbformat": 4,
 "nbformat_minor": 2
}
