{
 "cells": [
  {
   "cell_type": "markdown",
   "metadata": {},
   "source": [
    "- dbを作り直したいときに利用します\n",
    "- dbの中身は、VScodeの拡張機能「SQLite Viewer」とかで確認してください。"
   ]
  },
  {
   "cell_type": "code",
   "execution_count": 7,
   "metadata": {},
   "outputs": [
    {
     "name": "stdout",
     "output_type": "stream",
     "text": [
      "データベースエラー：near \"NOTNULL\": syntax error\n"
     ]
    }
   ],
   "source": [
    "import sqlite3\n",
    "\n",
    "try:\n",
    "    con = sqlite3.connect('database/todo_app.db')\n",
    "    cur = con.cursor()\n",
    "    # 顧客マスタ作成\n",
    "    cur.execute(\"\"\"\n",
    "                CREATE TABLE IF NOT EXISTS customer (\n",
    "                customer_id INTEGER PRIMARY KEY,\n",
    "                company TEXT NOT NULL,\n",
    "                tel TEXT NOT NULL,\n",
    "                email TEXT NOT NULL,\n",
    "                is_contract BOOLEAN\n",
    "                )\n",
    "                \"\"\")\n",
    "    # 契約状況マスタ作成\n",
    "    cur.execute(\"\"\"\n",
    "                CREATE TABLE IF NOT EXISTS contract (\n",
    "                contract_id BOOLEAN,\n",
    "                contract_name TEXT\n",
    "                )\n",
    "                \"\"\")\n",
    "    # ▼▼▼---ここに新しいテーブルを作成するSQLを書いてみよう---▼▼▼\n",
    "    cur.execute(\"\"\"\n",
    "                CREATE TABLE IF NOT EXISTS task (\n",
    "                task_id TEXT(6) UNIQUE NOTNULL,\n",
    "                FOREIN KEY (customer_id) REFERENCES customer (customer_id) NOT NULL,\n",
    "                sir TEXT NOT NULL,\n",
    "                task_content TEXT NOT NULL,\n",
    "                deadline DATE NOT NULL,\n",
    "                pic TEXT ,\n",
    "                progress TEXT,\n",
    "                    PRIMARY KEY(task_id)\n",
    "                deleted_at DATE\n",
    "                )\n",
    "                \"\"\")\n",
    "    # ▲▲▲---ここに新しいテーブルを作成するSQLを書いてみよう---▲▲▲\n",
    "    con.commit()\n",
    "except sqlite3.Error as e:\n",
    "    # エラー発生時の対応(1)：データベース作成時のエラーを出力\n",
    "    print(f\"データベースエラー：{e}\")\n",
    "except Exception as e:\n",
    "    # エラー発生時の対応(2)：それ以外エラーのを出力\n",
    "    print(f\"予期せぬエラーが発生しました：{e}\")\n",
    "else:\n",
    "    # 上手くいった場合\n",
    "    print(\"データベースの作成に成功しました。\")\n",
    "finally:\n",
    "    # 上手くいっても行かなくてもcloseする\n",
    "    con.close()"
   ]
  },
  {
   "cell_type": "code",
   "execution_count": null,
   "metadata": {},
   "outputs": [],
   "source": [
    "con = sqlite3.connect('database/todo_app.db')\n",
    "cur = con.cursor()\n",
    "# 顧客マスタ作成\n",
    "cur.execute(\"\"\"\n",
    "            ALTER TABLE task ADD COLUMN deleted_at[DATE]\n",
    "            \"\"\")\n",
    "con.commit()\n",
    "con.close()"
   ]
  },
  {
   "cell_type": "code",
   "execution_count": 4,
   "metadata": {},
   "outputs": [],
   "source": [
    "import sqlite3\n",
    "\n",
    "con = sqlite3.connect('database/todo_app.db')\n",
    "cur = con.cursor()\n",
    "\n",
    "cur.execute('INSERT INTO contract(contract_id, contract_name) values(0, \"解約済み\")')\n",
    "cur.execute('INSERT INTO contract(contract_id, contract_name) values(1, \"契約中\")')\n",
    "con.commit()\n",
    "\n",
    "cur.close()\n",
    "con.close()"
   ]
  },
  {
   "cell_type": "code",
   "execution_count": 5,
   "metadata": {},
   "outputs": [
    {
     "data": {
      "text/plain": [
       "[(1, '○○株式会社', '000-0000-0000', 'xxx@gmail.com', '契約中'),\n",
       " (1, '○○株式会社', '000-0000-0000', 'xxx@gmail.com', '契約中'),\n",
       " (2, '○株式会社', '000-0000-0000', 'xxx@gmail.com', '契約中'),\n",
       " (2, '○株式会社', '000-0000-0000', 'xxx@gmail.com', '契約中')]"
      ]
     },
     "execution_count": 5,
     "metadata": {},
     "output_type": "execute_result"
    }
   ],
   "source": [
    "con = sqlite3.connect('database/todo_app.db')\n",
    "cur = con.cursor()\n",
    "cur.execute(\"\"\"\n",
    "            SELECT\n",
    "                customer_id,\n",
    "                company,\n",
    "                tel,\n",
    "                email,\n",
    "                contract_name\n",
    "            FROM\n",
    "                customer\n",
    "            LEFT JOIN\n",
    "                contract\n",
    "            ON\n",
    "                customer.is_contract = contract.contract_id\n",
    "            \"\"\") # この中でクエリを書く\n",
    "items_list = cur.fetchall()\n",
    "items_list"
   ]
  },
  {
   "cell_type": "code",
   "execution_count": 8,
   "metadata": {},
   "outputs": [],
   "source": [
    "con.close()"
   ]
  },
  {
   "cell_type": "code",
   "execution_count": 6,
   "metadata": {},
   "outputs": [],
   "source": [
    "filepath = \"database/todo_app.db\"\n",
    "con = sqlite3.connect(filepath)\n",
    "cur = con.cursor()\n",
    "# この中でクエリを書く\n",
    "cur.execute(\"\"\"\n",
    "        SELECT\n",
    "            *\n",
    "        FROM\n",
    "            customer\n",
    "        \"\"\")\n",
    "items = cur.fetchall()\n",
    "con.close()"
   ]
  },
  {
   "cell_type": "code",
   "execution_count": 8,
   "metadata": {},
   "outputs": [
    {
     "data": {
      "text/plain": [
       "[(1, '○○株式会社', '000-0000-0000', 'xxx@gmail.com', 1),\n",
       " (2, '○株式会社', '000-0000-0000', 'xxx@gmail.com', 1)]"
      ]
     },
     "execution_count": 8,
     "metadata": {},
     "output_type": "execute_result"
    }
   ],
   "source": [
    "items"
   ]
  },
  {
   "cell_type": "code",
   "execution_count": 11,
   "metadata": {},
   "outputs": [],
   "source": [
    "filepath = \"database/todo_app.db\"\n",
    "con = sqlite3.connect(filepath)\n",
    "cur = con.cursor()\n",
    "# この中でクエリを書く\n",
    "cur.execute(\"\"\"\n",
    "        SELECT\n",
    "            customer_id,\n",
    "            company,\n",
    "            tel,\n",
    "            email,\n",
    "            contract_name\n",
    "        FROM\n",
    "            customer\n",
    "        INNER JOIN\n",
    "            contract\n",
    "        ON\n",
    "            customer.is_contract = contract.contract_id\n",
    "        \"\"\")\n",
    "items = cur.fetchall()\n",
    "con.close()"
   ]
  },
  {
   "cell_type": "code",
   "execution_count": 12,
   "metadata": {},
   "outputs": [
    {
     "data": {
      "text/plain": [
       "[(1, '○○株式会社', '000-0000-0000', 'xxx@gmail.com', '解約済み'),\n",
       " (1, '○○株式会社', '000-0000-0000', 'xxx@gmail.com', '契約中'),\n",
       " (1, '○○株式会社', '000-0000-0000', 'xxx@gmail.com', '解約済み'),\n",
       " (1, '○○株式会社', '000-0000-0000', 'xxx@gmail.com', '契約中'),\n",
       " (2, '○株式会社', '000-0000-0000', 'xxx@gmail.com', '解約済み'),\n",
       " (2, '○株式会社', '000-0000-0000', 'xxx@gmail.com', '契約中'),\n",
       " (2, '○株式会社', '000-0000-0000', 'xxx@gmail.com', '解約済み'),\n",
       " (2, '○株式会社', '000-0000-0000', 'xxx@gmail.com', '契約中')]"
      ]
     },
     "execution_count": 12,
     "metadata": {},
     "output_type": "execute_result"
    }
   ],
   "source": [
    "items"
   ]
  },
  {
   "cell_type": "code",
   "execution_count": null,
   "metadata": {},
   "outputs": [],
   "source": []
  }
 ],
 "metadata": {
  "kernelspec": {
   "display_name": "base",
   "language": "python",
   "name": "python3"
  },
  "language_info": {
   "codemirror_mode": {
    "name": "ipython",
    "version": 3
   },
   "file_extension": ".py",
   "mimetype": "text/x-python",
   "name": "python",
   "nbconvert_exporter": "python",
   "pygments_lexer": "ipython3",
   "version": "3.10.11"
  }
 },
 "nbformat": 4,
 "nbformat_minor": 2
}
